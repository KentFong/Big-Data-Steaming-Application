{
 "cells": [
  {
   "cell_type": "markdown",
   "metadata": {},
   "source": [
    "# Part B : Producer 1"
   ]
  },
  {
   "cell_type": "code",
   "execution_count": 1,
   "metadata": {},
   "outputs": [],
   "source": [
    "# import necessary libraries\n",
    "from time import sleep # to set intervals\n",
    "from json import dumps # for json format\n",
    "from kafka import KafkaProducer\n",
    "import random\n",
    "import datetime as dt\n",
    "import pandas as pd"
   ]
  },
  {
   "cell_type": "code",
   "execution_count": 2,
   "metadata": {},
   "outputs": [
    {
     "name": "stdout",
     "output_type": "stream",
     "text": [
      "Publishing records..\n",
      "Message published successfully. Data: {'latitude': -37.4661, 'longitude': 143.2419, 'air_temperature_celcius': 14, 'relative_humidity': 48.2, 'windspeed_knots': 9.1, 'max_wind_speed': 15.0, 'precipitation ': ' 0.00G', 'GHI_w/m2': 122, 'sender_id': 'climate_producer', 'created_date': '2022-01-01'}\n",
      "Message published successfully. Data: {'latitude': -37.45, 'longitude': 148.097, 'air_temperature_celcius': 9, 'relative_humidity': 41.0, 'windspeed_knots': 8.2, 'max_wind_speed': 9.9, 'precipitation ': ' 0.00G', 'GHI_w/m2': 83, 'sender_id': 'climate_producer', 'created_date': '2022-01-02'}\n",
      "Message published successfully. Data: {'latitude': -38.226, 'longitude': 147.167, 'air_temperature_celcius': 10, 'relative_humidity': 43.7, 'windspeed_knots': 7.2, 'max_wind_speed': 11.1, 'precipitation ': ' 0.00I', 'GHI_w/m2': 90, 'sender_id': 'climate_producer', 'created_date': '2022-01-03'}\n",
      "Message published successfully. Data: {'latitude': -37.479, 'longitude': 143.358, 'air_temperature_celcius': 23, 'relative_humidity': 60.6, 'windspeed_knots': 10.1, 'max_wind_speed': 26.0, 'precipitation ': ' 0.00I', 'GHI_w/m2': 180, 'sender_id': 'climate_producer', 'created_date': '2022-01-04'}\n",
      "Message published successfully. Data: {'latitude': -37.954, 'longitude': 143.918, 'air_temperature_celcius': 20, 'relative_humidity': 59.7, 'windspeed_knots': 8.6, 'max_wind_speed': 15.9, 'precipitation ': ' 0.01G', 'GHI_w/m2': 158, 'sender_id': 'climate_producer', 'created_date': '2022-01-05'}\n",
      "Message published successfully. Data: {'latitude': -37.903, 'longitude': 145.25, 'air_temperature_celcius': 24, 'relative_humidity': 62.3, 'windspeed_knots': 7.0, 'max_wind_speed': 13.0, 'precipitation ': ' 0.00I', 'GHI_w/m2': 185, 'sender_id': 'climate_producer', 'created_date': '2022-01-06'}\n",
      "Message published successfully. Data: {'latitude': -37.8147, 'longitude': 143.1062, 'air_temperature_celcius': 17, 'relative_humidity': 46.4, 'windspeed_knots': 9.5, 'max_wind_speed': 20.0, 'precipitation ': ' 0.00I', 'GHI_w/m2': 150, 'sender_id': 'climate_producer', 'created_date': '2022-01-07'}\n",
      "Message published successfully. Data: {'latitude': -37.363, 'longitude': 148.06, 'air_temperature_celcius': 11, 'relative_humidity': 35.3, 'windspeed_knots': 18.2, 'max_wind_speed': 25.1, 'precipitation ': ' 0.00I', 'GHI_w/m2': 106, 'sender_id': 'climate_producer', 'created_date': '2022-01-08'}\n",
      "Message published successfully. Data: {'latitude': -36.779, 'longitude': 146.108, 'air_temperature_celcius': 15, 'relative_humidity': 51.0, 'windspeed_knots': 9.6, 'max_wind_speed': 15.9, 'precipitation ': ' 0.16G', 'GHI_w/m2': 128, 'sender_id': 'climate_producer', 'created_date': '2022-01-09'}\n",
      "Message published successfully. Data: {'latitude': -36.984, 'longitude': 148.25, 'air_temperature_celcius': 10, 'relative_humidity': 39.9, 'windspeed_knots': 12.6, 'max_wind_speed': 16.9, 'precipitation ': ' 0.08G', 'GHI_w/m2': 93, 'sender_id': 'climate_producer', 'created_date': '2022-01-10'}\n",
      "Message published successfully. Data: {'latitude': -37.611, 'longitude': 149.27700000000002, 'air_temperature_celcius': 18, 'relative_humidity': 49.4, 'windspeed_knots': 9.3, 'max_wind_speed': 13.0, 'precipitation ': ' 0.00I', 'GHI_w/m2': 155, 'sender_id': 'climate_producer', 'created_date': '2022-01-11'}\n",
      "Message published successfully. Data: {'latitude': -36.1346, 'longitude': 145.2196, 'air_temperature_celcius': 8, 'relative_humidity': 37.2, 'windspeed_knots': 5.5, 'max_wind_speed': 11.1, 'precipitation ': ' 0.00G', 'GHI_w/m2': 76, 'sender_id': 'climate_producer', 'created_date': '2022-01-12'}\n",
      "Message published successfully. Data: {'latitude': -37.3583, 'longitude': 143.0203, 'air_temperature_celcius': 13, 'relative_humidity': 43.3, 'windspeed_knots': 9.4, 'max_wind_speed': 14.0, 'precipitation ': ' 0.00G', 'GHI_w/m2': 118, 'sender_id': 'climate_producer', 'created_date': '2022-01-13'}\n",
      "Message published successfully. Data: {'latitude': -36.0005, 'longitude': 143.1847, 'air_temperature_celcius': 17, 'relative_humidity': 52.5, 'windspeed_knots': 7.7, 'max_wind_speed': 16.9, 'precipitation ': ' 0.00I', 'GHI_w/m2': 143, 'sender_id': 'climate_producer', 'created_date': '2022-01-14'}\n",
      "Message published successfully. Data: {'latitude': -37.6593, 'longitude': 143.3445, 'air_temperature_celcius': 9, 'relative_humidity': 40.1, 'windspeed_knots': 12.1, 'max_wind_speed': 15.0, 'precipitation ': ' 0.08G', 'GHI_w/m2': 84, 'sender_id': 'climate_producer', 'created_date': '2022-01-15'}\n",
      "Message published successfully. Data: {'latitude': -36.0714, 'longitude': 145.7665, 'air_temperature_celcius': 18, 'relative_humidity': 54.6, 'windspeed_knots': 12.0, 'max_wind_speed': 25.1, 'precipitation ': ' 0.12G', 'GHI_w/m2': 148, 'sender_id': 'climate_producer', 'created_date': '2022-01-16'}\n",
      "Message published successfully. Data: {'latitude': -37.238, 'longitude': 141.145, 'air_temperature_celcius': 8, 'relative_humidity': 41.6, 'windspeed_knots': 8.3, 'max_wind_speed': 15.9, 'precipitation ': ' 0.24G', 'GHI_w/m2': 73, 'sender_id': 'climate_producer', 'created_date': '2022-01-17'}\n",
      "Message published successfully. Data: {'latitude': -36.748000000000005, 'longitude': 144.168, 'air_temperature_celcius': 11, 'relative_humidity': 48.2, 'windspeed_knots': 10.8, 'max_wind_speed': 22.9, 'precipitation ': ' 0.59G', 'GHI_w/m2': 96, 'sender_id': 'climate_producer', 'created_date': '2022-01-18'}\n",
      "Message published successfully. Data: {'latitude': -36.836999999999996, 'longitude': 142.0391, 'air_temperature_celcius': 19, 'relative_humidity': 55.8, 'windspeed_knots': 6.0, 'max_wind_speed': 11.1, 'precipitation ': ' 0.00I', 'GHI_w/m2': 155, 'sender_id': 'climate_producer', 'created_date': '2022-01-19'}\n",
      "Message published successfully. Data: {'latitude': -37.61, 'longitude': 149.296, 'air_temperature_celcius': 16, 'relative_humidity': 48.3, 'windspeed_knots': 14.4, 'max_wind_speed': 19.0, 'precipitation ': ' 0.00G', 'GHI_w/m2': 139, 'sender_id': 'climate_producer', 'created_date': '2022-01-20'}\n",
      "Message published successfully. Data: {'latitude': -36.4274, 'longitude': 142.1944, 'air_temperature_celcius': 22, 'relative_humidity': 46.9, 'windspeed_knots': 12.9, 'max_wind_speed': 19.0, 'precipitation ': ' 0.00I', 'GHI_w/m2': 193, 'sender_id': 'climate_producer', 'created_date': '2022-01-21'}\n",
      "Message published successfully. Data: {'latitude': -37.389, 'longitude': 149.311, 'air_temperature_celcius': 18, 'relative_humidity': 53.0, 'windspeed_knots': 6.6, 'max_wind_speed': 14.0, 'precipitation ': ' 0.00I', 'GHI_w/m2': 150, 'sender_id': 'climate_producer', 'created_date': '2022-01-22'}\n",
      "Message published successfully. Data: {'latitude': -35.937, 'longitude': 145.607, 'air_temperature_celcius': 10, 'relative_humidity': 43.3, 'windspeed_knots': 2.6, 'max_wind_speed': 7.0, 'precipitation ': ' 0.00I', 'GHI_w/m2': 91, 'sender_id': 'climate_producer', 'created_date': '2022-01-23'}\n",
      "Message published successfully. Data: {'latitude': -35.779, 'longitude': 143.1057, 'air_temperature_celcius': 18, 'relative_humidity': 53.7, 'windspeed_knots': 9.0, 'max_wind_speed': 13.0, 'precipitation ': ' 0.00I', 'GHI_w/m2': 150, 'sender_id': 'climate_producer', 'created_date': '2022-01-24'}\n",
      "Message published successfully. Data: {'latitude': -36.0201, 'longitude': 143.7775, 'air_temperature_celcius': 18, 'relative_humidity': 55.6, 'windspeed_knots': 8.2, 'max_wind_speed': 12.0, 'precipitation ': ' 0.00I', 'GHI_w/m2': 147, 'sender_id': 'climate_producer', 'created_date': '2022-01-25'}\n",
      "Message published successfully. Data: {'latitude': -37.945, 'longitude': 144.35399999999998, 'air_temperature_celcius': 24, 'relative_humidity': 55.6, 'windspeed_knots': 5.9, 'max_wind_speed': 13.0, 'precipitation ': ' 0.00I', 'GHI_w/m2': 196, 'sender_id': 'climate_producer', 'created_date': '2022-01-26'}\n",
      "Message published successfully. Data: {'latitude': -36.152, 'longitude': 143.578, 'air_temperature_celcius': 15, 'relative_humidity': 56.1, 'windspeed_knots': 5.1, 'max_wind_speed': 9.9, 'precipitation ': ' 0.00I', 'GHI_w/m2': 122, 'sender_id': 'climate_producer', 'created_date': '2022-01-27'}\n",
      "Message published successfully. Data: {'latitude': -37.379, 'longitude': 148.132, 'air_temperature_celcius': 12, 'relative_humidity': 44.9, 'windspeed_knots': 7.9, 'max_wind_speed': 11.1, 'precipitation ': ' 0.00G', 'GHI_w/m2': 107, 'sender_id': 'climate_producer', 'created_date': '2022-01-28'}\n"
     ]
    },
    {
     "name": "stdout",
     "output_type": "stream",
     "text": [
      "Message published successfully. Data: {'latitude': -36.758, 'longitude': 145.19, 'air_temperature_celcius': 20, 'relative_humidity': 58.4, 'windspeed_knots': 6.1, 'max_wind_speed': 11.1, 'precipitation ': ' 0.00I', 'GHI_w/m2': 159, 'sender_id': 'climate_producer', 'created_date': '2022-01-29'}\n",
      "Message published successfully. Data: {'latitude': -37.8072, 'longitude': 142.2406, 'air_temperature_celcius': 12, 'relative_humidity': 44.2, 'windspeed_knots': 6.2, 'max_wind_speed': 15.0, 'precipitation ': ' 0.00I', 'GHI_w/m2': 108, 'sender_id': 'climate_producer', 'created_date': '2022-01-30'}\n",
      "Message published successfully. Data: {'latitude': -36.1704, 'longitude': 144.0433, 'air_temperature_celcius': 11, 'relative_humidity': 41.7, 'windspeed_knots': 8.7, 'max_wind_speed': 19.0, 'precipitation ': ' 0.00I', 'GHI_w/m2': 101, 'sender_id': 'climate_producer', 'created_date': '2022-01-31'}\n",
      "Message published successfully. Data: {'latitude': -36.7179, 'longitude': 142.2536, 'air_temperature_celcius': 11, 'relative_humidity': 40.4, 'windspeed_knots': 9.2, 'max_wind_speed': 15.0, 'precipitation ': ' 0.04G', 'GHI_w/m2': 102, 'sender_id': 'climate_producer', 'created_date': '2022-02-01'}\n",
      "Message published successfully. Data: {'latitude': -36.282, 'longitude': 146.157, 'air_temperature_celcius': 17, 'relative_humidity': 50.4, 'windspeed_knots': 11.9, 'max_wind_speed': 16.9, 'precipitation ': ' 0.00G', 'GHI_w/m2': 145, 'sender_id': 'climate_producer', 'created_date': '2022-02-02'}\n",
      "Message published successfully. Data: {'latitude': -36.098, 'longitude': 143.74, 'air_temperature_celcius': 17, 'relative_humidity': 59.3, 'windspeed_knots': 4.2, 'max_wind_speed': 7.0, 'precipitation ': ' 0.01G', 'GHI_w/m2': 134, 'sender_id': 'climate_producer', 'created_date': '2022-02-03'}\n",
      "Message published successfully. Data: {'latitude': -37.598, 'longitude': 149.29, 'air_temperature_celcius': 18, 'relative_humidity': 53.5, 'windspeed_knots': 8.8, 'max_wind_speed': 13.0, 'precipitation ': ' 0.00I', 'GHI_w/m2': 150, 'sender_id': 'climate_producer', 'created_date': '2022-02-04'}\n",
      "Message published successfully. Data: {'latitude': -37.382, 'longitude': 149.341, 'air_temperature_celcius': 18, 'relative_humidity': 53.6, 'windspeed_knots': 7.2, 'max_wind_speed': 15.0, 'precipitation ': ' 0.00I', 'GHI_w/m2': 150, 'sender_id': 'climate_producer', 'created_date': '2022-02-05'}\n",
      "Message published successfully. Data: {'latitude': -37.5268, 'longitude': 143.0551, 'air_temperature_celcius': 8, 'relative_humidity': 35.0, 'windspeed_knots': 14.4, 'max_wind_speed': 20.0, 'precipitation ': ' 0.00G', 'GHI_w/m2': 77, 'sender_id': 'climate_producer', 'created_date': '2022-02-06'}\n",
      "Message published successfully. Data: {'latitude': -36.2693, 'longitude': 143.1768, 'air_temperature_celcius': 12, 'relative_humidity': 46.6, 'windspeed_knots': 6.7, 'max_wind_speed': 14.0, 'precipitation ': ' 0.00G', 'GHI_w/m2': 106, 'sender_id': 'climate_producer', 'created_date': '2022-02-07'}\n",
      "Message published successfully. Data: {'latitude': -36.751999999999995, 'longitude': 144.15, 'air_temperature_celcius': 14, 'relative_humidity': 50.4, 'windspeed_knots': 12.8, 'max_wind_speed': 20.0, 'precipitation ': ' 0.01G', 'GHI_w/m2': 120, 'sender_id': 'climate_producer', 'created_date': '2022-02-08'}\n",
      "Message published successfully. Data: {'latitude': -37.086999999999996, 'longitude': 145.363, 'air_temperature_celcius': 13, 'relative_humidity': 49.4, 'windspeed_knots': 3.8, 'max_wind_speed': 9.9, 'precipitation ': ' 0.01G', 'GHI_w/m2': 112, 'sender_id': 'climate_producer', 'created_date': '2022-02-09'}\n",
      "Message published successfully. Data: {'latitude': -37.863, 'longitude': 144.17, 'air_temperature_celcius': 18, 'relative_humidity': 57.5, 'windspeed_knots': 16.1, 'max_wind_speed': 21.0, 'precipitation ': ' 0.00G', 'GHI_w/m2': 145, 'sender_id': 'climate_producer', 'created_date': '2022-02-10'}\n",
      "Message published successfully. Data: {'latitude': -36.152, 'longitude': 143.578, 'air_temperature_celcius': 15, 'relative_humidity': 56.1, 'windspeed_knots': 5.1, 'max_wind_speed': 9.9, 'precipitation ': ' 0.00I', 'GHI_w/m2': 122, 'sender_id': 'climate_producer', 'created_date': '2022-02-11'}\n",
      "Message published successfully. Data: {'latitude': -37.6593, 'longitude': 143.3445, 'air_temperature_celcius': 9, 'relative_humidity': 40.1, 'windspeed_knots': 12.1, 'max_wind_speed': 15.0, 'precipitation ': ' 0.08G', 'GHI_w/m2': 84, 'sender_id': 'climate_producer', 'created_date': '2022-02-12'}\n",
      "Message published successfully. Data: {'latitude': -38.527, 'longitude': 143.493, 'air_temperature_celcius': 19, 'relative_humidity': 51.5, 'windspeed_knots': 10.2, 'max_wind_speed': 20.0, 'precipitation ': ' 0.00I', 'GHI_w/m2': 161, 'sender_id': 'climate_producer', 'created_date': '2022-02-13'}\n",
      "Message published successfully. Data: {'latitude': -37.379, 'longitude': 148.126, 'air_temperature_celcius': 9, 'relative_humidity': 42.9, 'windspeed_knots': 8.9, 'max_wind_speed': 15.9, 'precipitation ': ' 0.12G', 'GHI_w/m2': 82, 'sender_id': 'climate_producer', 'created_date': '2022-02-14'}\n",
      "Message published successfully. Data: {'latitude': -36.275, 'longitude': 146.154, 'air_temperature_celcius': 18, 'relative_humidity': 53.3, 'windspeed_knots': 7.9, 'max_wind_speed': 14.0, 'precipitation ': ' 0.00I', 'GHI_w/m2': 150, 'sender_id': 'climate_producer', 'created_date': '2022-02-15'}\n",
      "Message published successfully. Data: {'latitude': -38.5, 'longitude': 146.938, 'air_temperature_celcius': 7, 'relative_humidity': 40.7, 'windspeed_knots': 3.7, 'max_wind_speed': 7.0, 'precipitation ': ' 0.00I', 'GHI_w/m2': 65, 'sender_id': 'climate_producer', 'created_date': '2022-02-16'}\n",
      "Message published successfully. Data: {'latitude': -36.285, 'longitude': 146.151, 'air_temperature_celcius': 19, 'relative_humidity': 56.3, 'windspeed_knots': 5.8, 'max_wind_speed': 8.9, 'precipitation ': ' 0.00I', 'GHI_w/m2': 154, 'sender_id': 'climate_producer', 'created_date': '2022-02-17'}\n",
      "Message published successfully. Data: {'latitude': -37.46, 'longitude': 148.113, 'air_temperature_celcius': 11, 'relative_humidity': 44.2, 'windspeed_knots': 8.7, 'max_wind_speed': 15.9, 'precipitation ': ' 0.04G', 'GHI_w/m2': 99, 'sender_id': 'climate_producer', 'created_date': '2022-02-18'}\n",
      "Message published successfully. Data: {'latitude': -38.495, 'longitude': 146.944, 'air_temperature_celcius': 8, 'relative_humidity': 44.6, 'windspeed_knots': 3.9, 'max_wind_speed': 8.0, 'precipitation ': ' 0.39G', 'GHI_w/m2': 72, 'sender_id': 'climate_producer', 'created_date': '2022-02-19'}\n",
      "Message published successfully. Data: {'latitude': -37.692, 'longitude': 143.593, 'air_temperature_celcius': 14, 'relative_humidity': 45.8, 'windspeed_knots': 6.5, 'max_wind_speed': 9.9, 'precipitation ': ' 0.00G', 'GHI_w/m2': 124, 'sender_id': 'climate_producer', 'created_date': '2022-02-20'}\n",
      "Message published successfully. Data: {'latitude': -37.62, 'longitude': 149.29399999999998, 'air_temperature_celcius': 21, 'relative_humidity': 60.4, 'windspeed_knots': 6.8, 'max_wind_speed': 12.0, 'precipitation ': ' 0.00I', 'GHI_w/m2': 164, 'sender_id': 'climate_producer', 'created_date': '2022-02-21'}\n",
      "Message published successfully. Data: {'latitude': -37.469, 'longitude': 148.125, 'air_temperature_celcius': 14, 'relative_humidity': 48.4, 'windspeed_knots': 7.5, 'max_wind_speed': 13.0, 'precipitation ': ' 0.00G', 'GHI_w/m2': 122, 'sender_id': 'climate_producer', 'created_date': '2022-02-22'}\n",
      "Message published successfully. Data: {'latitude': -37.406, 'longitude': 148.123, 'air_temperature_celcius': 12, 'relative_humidity': 44.7, 'windspeed_knots': 11.4, 'max_wind_speed': 18.1, 'precipitation ': ' 0.00G', 'GHI_w/m2': 107, 'sender_id': 'climate_producer', 'created_date': '2022-02-23'}\n"
     ]
    },
    {
     "ename": "KeyboardInterrupt",
     "evalue": "",
     "output_type": "error",
     "traceback": [
      "\u001b[0;31m---------------------------------------------------------------------------\u001b[0m",
      "\u001b[0;31mKeyboardInterrupt\u001b[0m                         Traceback (most recent call last)",
      "\u001b[0;32m<ipython-input-2-78cc2a5478cc>\u001b[0m in \u001b[0;36m<module>\u001b[0;34m\u001b[0m\n\u001b[1;32m     48\u001b[0m         \u001b[0mdata\u001b[0m\u001b[0;34m[\u001b[0m\u001b[0mindex\u001b[0m\u001b[0;34m]\u001b[0m\u001b[0;34m[\u001b[0m\u001b[0;34m\"created_date\"\u001b[0m\u001b[0;34m]\u001b[0m \u001b[0;34m=\u001b[0m \u001b[0mstr\u001b[0m\u001b[0;34m(\u001b[0m\u001b[0mcreated_date\u001b[0m\u001b[0;34m.\u001b[0m\u001b[0mdate\u001b[0m\u001b[0;34m(\u001b[0m\u001b[0;34m)\u001b[0m\u001b[0;34m)\u001b[0m\u001b[0;34m\u001b[0m\u001b[0;34m\u001b[0m\u001b[0m\n\u001b[1;32m     49\u001b[0m         \u001b[0mpublish_message\u001b[0m\u001b[0;34m(\u001b[0m\u001b[0mproducer\u001b[0m\u001b[0;34m,\u001b[0m \u001b[0mtopic\u001b[0m\u001b[0;34m,\u001b[0m \u001b[0;34m'parsed'\u001b[0m\u001b[0;34m,\u001b[0m \u001b[0mstr\u001b[0m\u001b[0;34m(\u001b[0m\u001b[0mdata\u001b[0m\u001b[0;34m[\u001b[0m\u001b[0mindex\u001b[0m\u001b[0;34m]\u001b[0m\u001b[0;34m)\u001b[0m\u001b[0;34m)\u001b[0m\u001b[0;34m\u001b[0m\u001b[0;34m\u001b[0m\u001b[0m\n\u001b[0;32m---> 50\u001b[0;31m         \u001b[0msleep\u001b[0m\u001b[0;34m(\u001b[0m\u001b[0;36m10\u001b[0m\u001b[0;34m)\u001b[0m \u001b[0;31m# 10 second intervals\u001b[0m\u001b[0;34m\u001b[0m\u001b[0;34m\u001b[0m\u001b[0m\n\u001b[0m",
      "\u001b[0;31mKeyboardInterrupt\u001b[0m: "
     ]
    }
   ],
   "source": [
    "def publish_message(producer_instance, topic_name, key, value):\n",
    "    try:\n",
    "        key_bytes = bytes(key, encoding='utf-8')\n",
    "        value_bytes = bytes(value, encoding='utf-8')\n",
    "\n",
    "        producer_instance.send(topic_name, key=key_bytes, value=value_bytes)\n",
    "\n",
    "        producer_instance.flush()\n",
    "        print('Message published successfully. Data: ' + str(value))\n",
    "    except Exception as ex:\n",
    "        print('Exception in publishing message.')\n",
    "        print(str(ex))\n",
    "        \n",
    "def connect_kafka_producer():\n",
    "    _producer = None\n",
    "    try:\n",
    "        # establishing a connection to the kafka instance and assign the instance to a variable. \n",
    "        _producer = KafkaProducer(bootstrap_servers=['localhost:9092'],\n",
    "                                  api_version=(0, 10))\n",
    "    except Exception as ex:\n",
    "        print('Exception while connecting Kafka.')\n",
    "        print(str(ex))\n",
    "    finally:\n",
    "        return _producer\n",
    "\n",
    "def read_data():\n",
    "    climate_stream = pd.read_csv(\"climate_streaming.csv\")\n",
    "    climate_dict = climate_stream.to_dict(orient = \"records\")\n",
    "    return climate_dict\n",
    "\n",
    "if __name__ == '__main__':\n",
    "\n",
    "    topic = 'Assignment'\n",
    "    \n",
    "    print('Publishing records..')\n",
    "\n",
    "    data = read_data()\n",
    "\n",
    "    producer = connect_kafka_producer()\n",
    "    created_date = dt.datetime(2021, 12, 31) #last data from the climate csv\n",
    "\n",
    "    # data is inserted with replacement, hence no processing is required to insert data randomly\n",
    "\n",
    "    for i in range(len(data)): # loops through the climate data\n",
    "        index = random.randrange(0,len(data)) #assign a random index\n",
    "        data[index][\"sender_id\"] = \"climate_producer\" # assign a sender id to assess them\n",
    "        created_date += dt.timedelta(days=1) # assign a new day to the date (10 seconds = 1 day) \n",
    "        data[index][\"created_date\"] = str(created_date.date()) \n",
    "        publish_message(producer, topic, 'parsed', str(data[index]))\n",
    "        sleep(10) # 10 second intervals"
   ]
  },
  {
   "cell_type": "code",
   "execution_count": null,
   "metadata": {},
   "outputs": [],
   "source": []
  },
  {
   "cell_type": "code",
   "execution_count": null,
   "metadata": {},
   "outputs": [],
   "source": []
  }
 ],
 "metadata": {
  "kernelspec": {
   "display_name": "Python 3",
   "language": "python",
   "name": "python3"
  },
  "language_info": {
   "codemirror_mode": {
    "name": "ipython",
    "version": 3
   },
   "file_extension": ".py",
   "mimetype": "text/x-python",
   "name": "python",
   "nbconvert_exporter": "python",
   "pygments_lexer": "ipython3",
   "version": "3.8.10"
  }
 },
 "nbformat": 4,
 "nbformat_minor": 4
}
